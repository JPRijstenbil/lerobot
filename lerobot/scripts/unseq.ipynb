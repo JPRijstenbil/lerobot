{
 "cells": [
  {
   "cell_type": "markdown",
   "id": "bd89259b",
   "metadata": {},
   "source": [
    "## Initialization"
   ]
  },
  {
   "cell_type": "code",
   "execution_count": 1,
   "id": "519f6f7b",
   "metadata": {},
   "outputs": [
    {
     "name": "stderr",
     "output_type": "stream",
     "text": [
      "c:\\ProgramData\\miniconda3\\envs\\lerobot\\lib\\site-packages\\tqdm\\auto.py:21: TqdmWarning: IProgress not found. Please update jupyter and ipywidgets. See https://ipywidgets.readthedocs.io/en/stable/user_install.html\n",
      "  from .autonotebook import tqdm as notebook_tqdm\n"
     ]
    }
   ],
   "source": [
    "from huggingface_hub import whoami"
   ]
  },
  {
   "cell_type": "code",
   "execution_count": 3,
   "id": "efd8311b",
   "metadata": {},
   "outputs": [
    {
     "name": "stdout",
     "output_type": "stream",
     "text": [
      "✅ You are logged in as Unseq\n"
     ]
    }
   ],
   "source": [
    "# Check if you're logged in\n",
    "info = whoami()\n",
    "HF_USER = info['name']\n",
    "print(f\"✅ You are logged in as {HF_USER}\")"
   ]
  },
  {
   "cell_type": "markdown",
   "id": "cc80c599",
   "metadata": {},
   "source": [
    "## Teleop"
   ]
  },
  {
   "cell_type": "code",
   "execution_count": null,
   "id": "bcfff4b3",
   "metadata": {},
   "outputs": [],
   "source": [
    "import subprocess\n",
    "import signal\n",
    "import os\n",
    "\n",
    "def run_in_terminal(cmd, timeout=600, verbose=False):\n",
    "    if verbose:\n",
    "        print(f\"Running command: {cmd}\")\n",
    "    process = subprocess.Popen(cmd)\n",
    "    try:\n",
    "        process.wait(timeout=timeout)\n",
    "    except subprocess.TimeoutExpired:\n",
    "        print(f\"Command timed out after {timeout} seconds, process still running. Make sure to close the terminal.\")\n"
   ]
  },
  {
   "cell_type": "code",
   "execution_count": null,
   "id": "e079a92d",
   "metadata": {},
   "outputs": [],
   "source": [
    "robot_port = \"COM11\"\n",
    "robot_id = \"unseq_follower\"\n",
    "teleop_port = \"COM10\"\n",
    "teleop_id = \"unseq_leader\"\n",
    "teleop_duration = \"10\"\n",
    "FPS = \"30\""
   ]
  },
  {
   "cell_type": "code",
   "execution_count": null,
   "id": "c7d19fff",
   "metadata": {},
   "outputs": [
    {
     "name": "stdout",
     "output_type": "stream",
     "text": [
      "Command timed out after 5 seconds, process still running. Make sure to close the terminal.\n"
     ]
    }
   ],
   "source": [
    "teleoperate_no_cam = [\n",
    "    \"python\", \"-m\", \"lerobot.teleoperate\",\n",
    "    \"--robot.type=so101_follower\",\n",
    "    f\"--robot.port={robot_port}\",\n",
    "    f\"--robot.id={robot_id}\",\n",
    "    \"--teleop.type=so101_leader\",\n",
    "    f\"--teleop.port={teleop_port}\",\n",
    "    f\"--teleop.id={teleop_id}\",\n",
    "    f\"--teleop_time_s={teleop_duration}\",\n",
    "]\n",
    "\n",
    "run_in_terminal(teleoperate_no_cam)"
   ]
  },
  {
   "cell_type": "code",
   "execution_count": null,
   "id": "0113c25a",
   "metadata": {},
   "outputs": [
    {
     "name": "stdout",
     "output_type": "stream",
     "text": [
      "Command timed out after 10 seconds, process still running. Make sure to close the terminal.\n"
     ]
    }
   ],
   "source": [
    "FPS = 30\n",
    "robot_cameras = (\n",
    "\t'{ front: {type: opencv, index_or_path: 2, width: 640, height: 480, fps: ' + str(FPS) + '}, '\n",
    "\t'top: {type: opencv, index_or_path: 1, width: 640, height: 480, fps: ' + str(FPS) + '} }'\n",
    ")\n",
    "\n",
    "teleoperate_with_cam = [\n",
    "\t\"python\", \"-m\", \"lerobot.teleoperate\",\n",
    "\t\"--robot.type=so101_follower\",\n",
    "\tf\"--robot.port={robot_port}\",\n",
    "\tf\"--robot.id={robot_id}\",\n",
    "\tf\"--robot.cameras={robot_cameras}\",\n",
    "\t\"--teleop.type=so101_leader\",\n",
    "\tf\"--teleop.port={teleop_port}\",\n",
    "\tf\"--teleop.id={teleop_id}\",\n",
    "\t\"--display_data=true\",\n",
    "\tf\"--teleop_time_s={teleop_duration}\"\n",
    "]\n",
    "\n",
    "run_in_terminal(teleoperate_with_cam)"
   ]
  },
  {
   "cell_type": "code",
   "execution_count": null,
   "id": "2b896143",
   "metadata": {},
   "outputs": [],
   "source": [
    "record_cmd = [\n",
    "    \"python\", \"-m\", \"lerobot.record\",\n",
    "    \"--robot.type=so101_follower\",\n",
    "    \"--robot.port=COM11\",\n",
    "    \"--robot.id=unseq_follower\",\n",
    "    '--robot.cameras={ front: {type: opencv, index_or_path: 2, width: 640, height: 480, fps: 15}, top: {type: opencv, index_or_path: 1, width: 640, height: 480, fps: 15}}',\n",
    "    \"--teleop.type=so101_leader\",\n",
    "    \"--teleop.port=COM10\",\n",
    "    \"--teleop.id=unseq_leader\",\n",
    "    \"--display_data=true\",\n",
    "    f\"--dataset.repo_id={HF_USER}/record-test3\",\n",
    "    \"--dataset.num_episodes=2\",\n",
    "    '--dataset.single_task=Move object from blue to white square'\n",
    "]\n",
    "\n",
    "run_in_terminal(record_cmd, timeout=60)"
   ]
  },
  {
   "cell_type": "markdown",
   "id": "f7cd183b",
   "metadata": {},
   "source": [
    "python -m lerobot.replay --robot.type=so101_follower --robot.port=COM11 --robot.id=unseq_follower --dataset.repo_id=${HF_USER}/record-test3 --dataset.episode=1"
   ]
  },
  {
   "cell_type": "markdown",
   "id": "74a3200c",
   "metadata": {},
   "source": [
    "how to remove episodes from dataset: https://github.com/huggingface/lerobot/pull/831 not yet merged, as the python script is not available in the repo.\n",
    "\n",
    "\n",
    "\n"
   ]
  },
  {
   "cell_type": "markdown",
   "id": "619901b4",
   "metadata": {},
   "source": [
    "## Train"
   ]
  },
  {
   "cell_type": "markdown",
   "id": "ad63bbc4",
   "metadata": {},
   "source": [
    "train_cmd = [\n",
    "    \"python\", \"lerobot/scripts/train.py\",\n",
    "    f\"--dataset.repo_id={HF_USER}/record-test-5\",\n",
    "    \"--policy.type=act\",\n",
    "    \"--output_dir=outputs/train/act_so101_test\",\n",
    "    \"--job_name=act_so101_test\",\n",
    "    \"--policy.device=cuda\",\n",
    "    \"--wandb.enable=true\"\n",
    "]\n",
    "\n",
    "run_in_terminal(train_cmd)"
   ]
  },
  {
   "cell_type": "code",
   "execution_count": null,
   "id": "6babde9c",
   "metadata": {},
   "outputs": [
    {
     "data": {
      "text/plain": [
       "True"
      ]
     },
     "execution_count": 1,
     "metadata": {},
     "output_type": "execute_result"
    }
   ],
   "source": [
    "import torch\n",
    "\n",
    "# Check if CUDA is available\n",
    "torch.cuda.is_available()\n"
   ]
  },
  {
   "cell_type": "code",
   "execution_count": 2,
   "id": "c13119da",
   "metadata": {},
   "outputs": [
    {
     "name": "stdout",
     "output_type": "stream",
     "text": [
      "Stay tuned...\n"
     ]
    },
    {
     "ename": "ModuleNotFoundError",
     "evalue": "No module named 'torchcodec.codecs'",
     "output_type": "error",
     "traceback": [
      "\u001b[1;31m---------------------------------------------------------------------------\u001b[0m",
      "\u001b[1;31mModuleNotFoundError\u001b[0m                       Traceback (most recent call last)",
      "Cell \u001b[1;32mIn[2], line 2\u001b[0m\n\u001b[0;32m      1\u001b[0m \u001b[38;5;28;01mimport\u001b[39;00m\u001b[38;5;250m \u001b[39m\u001b[38;5;21;01mtorch\u001b[39;00m\n\u001b[1;32m----> 2\u001b[0m \u001b[38;5;28;01mfrom\u001b[39;00m\u001b[38;5;250m \u001b[39m\u001b[38;5;21;01mtorchcodec\u001b[39;00m\u001b[38;5;21;01m.\u001b[39;00m\u001b[38;5;21;01mcodecs\u001b[39;00m\u001b[38;5;250m \u001b[39m\u001b[38;5;28;01mimport\u001b[39;00m Encodec\n\u001b[0;32m      4\u001b[0m \u001b[38;5;66;03m# Set device\u001b[39;00m\n\u001b[0;32m      5\u001b[0m device \u001b[38;5;241m=\u001b[39m \u001b[38;5;124m\"\u001b[39m\u001b[38;5;124mcuda\u001b[39m\u001b[38;5;124m\"\u001b[39m \u001b[38;5;28;01mif\u001b[39;00m torch\u001b[38;5;241m.\u001b[39mcuda\u001b[38;5;241m.\u001b[39mis_available() \u001b[38;5;28;01melse\u001b[39;00m \u001b[38;5;124m\"\u001b[39m\u001b[38;5;124mcpu\u001b[39m\u001b[38;5;124m\"\u001b[39m\n",
      "\u001b[1;31mModuleNotFoundError\u001b[0m: No module named 'torchcodec.codecs'"
     ]
    }
   ],
   "source": [
    "import torch\n",
    "from torchcodec.codecs import Encodec\n",
    "\n",
    "# Set device\n",
    "device = \"cuda\" if torch.cuda.is_available() else \"cpu\"\n",
    "\n",
    "# Create Encodec model\n",
    "model = Encodec(\"encodec_24khz\").to(device)\n",
    "model.eval()\n",
    "\n",
    "# Dummy audio: batch of 1, 1 channel, 10,000 samples (about 0.4 sec at 24 kHz)\n",
    "waveform = torch.randn(1, 1, 10000).to(device)\n",
    "\n",
    "# Forward pass: encode and decode\n",
    "with torch.no_grad():\n",
    "    encoded_frames = model.encode(waveform)\n",
    "    decoded_waveform = model.decode(encoded_frames)\n",
    "\n",
    "print(f\"Original shape: {waveform.shape}\")\n",
    "print(f\"Decoded shape: {decoded_waveform.shape}\")"
   ]
  },
  {
   "cell_type": "code",
   "execution_count": null,
   "id": "53bfde04",
   "metadata": {},
   "outputs": [],
   "source": [
    "!python "
   ]
  },
  {
   "cell_type": "markdown",
   "id": "6e557be1",
   "metadata": {},
   "source": [
    "## Evaluating trained model"
   ]
  },
  {
   "cell_type": "code",
   "execution_count": 24,
   "id": "c621d0a2",
   "metadata": {},
   "outputs": [
    {
     "name": "stderr",
     "output_type": "stream",
     "text": [
      "python: can't open file 'c:\\\\Users\\\\jprij\\\\Documents\\\\lerobot\\\\lerobot\\\\scripts\\\\lerobot\\\\scripts\\\\eval.py': [Errno 2] No such file or directory\n"
     ]
    }
   ],
   "source": [
    "!python lerobot/scripts/eval.py \\\n",
    "    --policy.path=lerobot/diffusion_pusht \\\n",
    "    --env.type=pusht \\\n",
    "    --eval.batch_size=10 \\\n",
    "    --eval.n_episodes=10 \\\n",
    "    --use_amp=false \\\n",
    "    --device=cuda"
   ]
  },
  {
   "cell_type": "markdown",
   "id": "440f644c",
   "metadata": {},
   "source": [
    "# Debugging"
   ]
  },
  {
   "cell_type": "code",
   "execution_count": null,
   "id": "1fa6d55b",
   "metadata": {},
   "outputs": [],
   "source": [
    "import cv2\n",
    "import os\n",
    "import time\n",
    "from pathlib import Path\n",
    "\n",
    "# Open default camera (index 0)\n",
    "cap = cv2.VideoCapture(1)\n",
    "\n",
    "if not cap.isOpened():\n",
    "    print(\"Cannot open camera at index 0\")\n",
    "else:\n",
    "    # Warm up the camera by waiting and reading a few frames\n",
    "    time.sleep(2)  # Wait 2 seconds\n",
    "\n",
    "    for i in range(5):  # Discard first few frames\n",
    "        cap.read()\n",
    "\n",
    "    ret, frame = cap.read()\n",
    "    if not ret or frame is None:\n",
    "        print(\"Camera opened but failed to read a frame\")\n",
    "    else:\n",
    "        print(f\"Successfully captured frame of shape: {frame.shape}\")\n",
    "        \n",
    "        # Get path to Downloads folder\n",
    "        downloads_path = str(Path.home() / \"Downloads\")\n",
    "        filename = \"captured_image.jpg\"\n",
    "        save_path = os.path.join(downloads_path, filename)\n",
    "\n",
    "        # Save the frame as JPEG\n",
    "        cv2.imwrite(save_path, frame)\n",
    "        print(f\"📸 Image saved to: {save_path}\")\n",
    "\n",
    "    cap.release()\n"
   ]
  },
  {
   "cell_type": "code",
   "execution_count": null,
   "id": "82fc74c4",
   "metadata": {},
   "outputs": [],
   "source": [
    "# in common/cameras/opencv/camera_opencv\n",
    "self.videocapture = cv2.VideoCapture(self.index_or_path, self.backend) \n",
    "# to\n",
    "self.videocapture = cv2.VideoCapture(self.index_or_path)#, self.backend)"
   ]
  },
  {
   "cell_type": "code",
   "execution_count": null,
   "id": "d76cdc9e",
   "metadata": {},
   "outputs": [],
   "source": [
    "from lerobot.common.cameras.opencv.configuration_opencv import OpenCVCameraConfig\n",
    "from lerobot.common.cameras.opencv.camera_opencv import OpenCVCamera\n",
    "from lerobot.common.cameras.configs import ColorMode, Cv2Rotation\n",
    "\n",
    "# Construct an `OpenCVCameraConfig` with your desired FPS, resolution, color mode, and rotation.\n",
    "config = OpenCVCameraConfig(\n",
    "    index_or_path=2,\n",
    "    fps=30,\n",
    "    width=640,\n",
    "    height=480,\n",
    "    color_mode=ColorMode.RGB,\n",
    "    rotation=Cv2Rotation.NO_ROTATION\n",
    ")\n",
    "\n",
    "# Instantiate and connect an `OpenCVCamera`, performing a warm-up read (default).\n",
    "camera = OpenCVCamera(config)\n",
    "camera.connect()\n",
    "\n",
    "# Read frames asynchronously in a loop via `async_read(timeout_ms)`\n",
    "try:\n",
    "    t = time.time()\n",
    "    for i in range(10):\n",
    "        frame = camera.async_read(timeout_ms=2000) #NOTE: at least 2 seconds timeout, otherwise it will fail\n",
    "        print(f\"Async frame {i} shape:\", frame.shape)\n",
    "        \n",
    "        try: \n",
    "            print(1/(time.time() - t), 'FPS')\n",
    "        except ZeroDivisionError:\n",
    "            pass\n",
    "        t = time.time()\n",
    "finally:\n",
    "    camera.disconnect()"
   ]
  },
  {
   "cell_type": "code",
   "execution_count": 2,
   "id": "e93c5d6e",
   "metadata": {
    "vscode": {
     "languageId": "markdown"
    }
   },
   "outputs": [
    {
     "ename": "SyntaxError",
     "evalue": "invalid decimal literal (2432197884.py, line 4)",
     "output_type": "error",
     "traceback": [
      "\u001b[1;36m  Cell \u001b[1;32mIn[2], line 4\u001b[1;36m\u001b[0m\n\u001b[1;33m    - @ 1280x720, 7-8 FPS can be reached with USB webcam.\u001b[0m\n\u001b[1;37m           ^\u001b[0m\n\u001b[1;31mSyntaxError\u001b[0m\u001b[1;31m:\u001b[0m invalid decimal literal\n"
     ]
    }
   ],
   "source": [
    "# lessons\n",
    "- webcam USB on dock will cap at 1 FPS (at least with my dock and everything connected) -> give each camera own port.\n",
    "- timeout of our USB webcams must be at least 2 seconds.\n",
    "- @ 1280x720, 7-8 FPS can be reached with USB webcam.\n",
    "- @ 640x480, 30 FPS can be reached with USB webcam (in 2 of the ports, other port is capped at 15 FPS.)"
   ]
  }
 ],
 "metadata": {
  "kernelspec": {
   "display_name": "lerobot",
   "language": "python",
   "name": "python3"
  },
  "language_info": {
   "codemirror_mode": {
    "name": "ipython",
    "version": 3
   },
   "file_extension": ".py",
   "mimetype": "text/x-python",
   "name": "python",
   "nbconvert_exporter": "python",
   "pygments_lexer": "ipython3",
   "version": "3.10.18"
  }
 },
 "nbformat": 4,
 "nbformat_minor": 5
}
