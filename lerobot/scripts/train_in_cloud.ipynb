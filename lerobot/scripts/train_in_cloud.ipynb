{
 "cells": [
  {
   "cell_type": "markdown",
   "id": "95fb00b6",
   "metadata": {},
   "source": [
    "# Vast.ai\n",
    "Create account, add card & add money (for security reasons, you could remove the card after adding money).\n",
    "\n",
    "Generate ssh key on local machine & follow the instructions. Store the public key to vastai\n",
    "```bash\n",
    "ssh-keygen -t ed25519\n",
    "```\n",
    "\n",
    "Upload this notebook to a machine that has access to a jupyter notebook server.\n"
   ]
  },
  {
   "cell_type": "markdown",
   "id": "d12f735a",
   "metadata": {},
   "source": []
  },
  {
   "cell_type": "markdown",
   "id": "e1b9ecd2",
   "metadata": {},
   "source": [
    "## Using Colab\n",
    "\n",
    "see instructions from [Huggingface](https://colab.research.google.com/github/huggingface/notebooks/blob/main/lerobot/training-smolvla.ipynb#scrollTo=QlKjL1X5t_zM)"
   ]
  },
  {
   "cell_type": "markdown",
   "id": "d7f02298",
   "metadata": {},
   "source": [
    "## Install LeRobot"
   ]
  },
  {
   "cell_type": "code",
   "execution_count": null,
   "id": "01597dc4",
   "metadata": {},
   "outputs": [],
   "source": [
    "!git clone https://github.com/JPRijstenbil/lerobot\n",
    "!cd lerobot && pip install -e ."
   ]
  },
  {
   "cell_type": "markdown",
   "id": "2d4a2895",
   "metadata": {},
   "source": [
    "### RTX50XX"
   ]
  },
  {
   "cell_type": "code",
   "execution_count": null,
   "id": "4d679ab2",
   "metadata": {},
   "outputs": [],
   "source": [
    "!pip install torch torchvision torchaudio --index-url https://download.pytorch.org/whl/cu128"
   ]
  },
  {
   "cell_type": "markdown",
   "id": "2f9dc5da",
   "metadata": {},
   "source": [
    "### RTX 40XX"
   ]
  },
  {
   "cell_type": "code",
   "execution_count": null,
   "id": "f2c5e625",
   "metadata": {},
   "outputs": [],
   "source": [
    "!pip install torch torchvision torchaudio --index-url https://download.pytorch.org/whl/cu128"
   ]
  },
  {
   "cell_type": "code",
   "execution_count": null,
   "id": "4d8e190d",
   "metadata": {},
   "outputs": [],
   "source": [
    "# Optionally: check if pytorch works correctly\n",
    "import torch\n",
    "import numpy as np\n",
    "torch.cuda.is_available() # Should return 'True'\n",
    "\n",
    "device = torch.device('cuda')\n",
    "a = np.array([[1,2],[2,3]])\n",
    "b = torch.from_numpy(a)\n",
    "b.to(device) # Should return a cuda tensor"
   ]
  },
  {
   "cell_type": "markdown",
   "id": "7cdd4f66",
   "metadata": {},
   "source": [
    "## Logins"
   ]
  },
  {
   "cell_type": "code",
   "execution_count": null,
   "id": "bc9496e6",
   "metadata": {},
   "outputs": [],
   "source": [
    "WB_KEY = \"<W&B API Key>\" # Replace with your Weights & Biases API key\n",
    "HF_KEY = \"<Hugging Face API Key>\" # Replace with your Hugging Face API key"
   ]
  },
  {
   "cell_type": "code",
   "execution_count": null,
   "id": "4d2ae68b",
   "metadata": {},
   "outputs": [],
   "source": [
    "import wandb\n",
    "from huggingface_hub import whoami\n",
    "\n",
    "wandb.login(key=WB_KEY)\n",
    "\n",
    "info = whoami()\n",
    "HF_USER = info['name']\n",
    "print(f\"✅ You are logged in as {HF_USER}\")\n",
    "\n",
    "!huggingface-cli login --token $HF_KEY"
   ]
  },
  {
   "cell_type": "markdown",
   "id": "45d4ffc5",
   "metadata": {},
   "source": [
    "## Training ACT\n",
    "\n",
    "Speed = 100k steps in 1.5 hour (A100 GPU)"
   ]
  },
  {
   "cell_type": "code",
   "execution_count": null,
   "id": "b0f593bb",
   "metadata": {},
   "outputs": [],
   "source": [
    "!cd lerobot\n",
    "!python lerobot/scripts/train.py \\\n",
    "  --dataset.repo_id=${HF_USER}/il_gym0 \\\n",
    "  --policy.type=act \\\n",
    "  --output_dir=outputs/train/il_sim_test0 \\\n",
    "  --job_name=il_sim_test \\\n",
    "  --policy.device=cuda \\\n",
    "  --wandb.enable=true"
   ]
  },
  {
   "cell_type": "code",
   "execution_count": null,
   "id": "ea60d5c2",
   "metadata": {},
   "outputs": [],
   "source": [
    "!huggingface-cli upload ${HF_USER}/il_sim_test0 /content/lerobot/outputs/train/il_sim_test0/checkpoints/last/pretrained_model"
   ]
  },
  {
   "cell_type": "markdown",
   "id": "e1f44461",
   "metadata": {},
   "source": [
    "## Finetuning SmolVLA\n",
    "\n",
    "Speed = 20k steps in 5 hours (A100 GPU)"
   ]
  },
  {
   "cell_type": "code",
   "execution_count": null,
   "id": "fa6742d6",
   "metadata": {},
   "outputs": [],
   "source": [
    "# install SmolVLA dependencies\n",
    "!cd lerobot && pip install -e \".[smolvla]\""
   ]
  },
  {
   "cell_type": "markdown",
   "id": "e3a5b4d7",
   "metadata": {},
   "source": [
    "!cd lerobot\n",
    "!python lerobot/scripts/train.py \\\n",
    "  --policy.path=lerobot/smolvla_base \\\n",
    "  --dataset.repo_id=${HF_USER}/mydataset \\\n",
    "  --batch_size=64 \\\n",
    "  --steps=20000 \\\n",
    "  --output_dir=outputs/train/my_smolvla \\\n",
    "  --job_name=my_smolvla_training \\\n",
    "  --policy.device=cuda \\\n",
    "  --wandb.enable=true"
   ]
  },
  {
   "cell_type": "code",
   "execution_count": null,
   "id": "d7786ac5",
   "metadata": {},
   "outputs": [],
   "source": [
    "# Remember to set this to the correct folder\n",
    "\n",
    "!huggingface-cli upload ${HF_USER}/my_smolvla /content/lerobot/outputs/train/my_smolvla/checkpoints/last/pretrained_model"
   ]
  },
  {
   "cell_type": "markdown",
   "id": "32a1ec4f",
   "metadata": {},
   "source": [
    "## Training Groot N1.5"
   ]
  },
  {
   "cell_type": "code",
   "execution_count": null,
   "id": "a5c4d99b",
   "metadata": {},
   "outputs": [],
   "source": []
  }
 ],
 "metadata": {
  "kernelspec": {
   "display_name": "lerobot",
   "language": "python",
   "name": "python3"
  },
  "language_info": {
   "codemirror_mode": {
    "name": "ipython",
    "version": 3
   },
   "file_extension": ".py",
   "mimetype": "text/x-python",
   "name": "python",
   "nbconvert_exporter": "python",
   "pygments_lexer": "ipython3",
   "version": "3.10.18"
  }
 },
 "nbformat": 4,
 "nbformat_minor": 5
}
